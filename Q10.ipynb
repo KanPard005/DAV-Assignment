{
 "cells": [
  {
   "cell_type": "code",
   "execution_count": 115,
   "metadata": {},
   "outputs": [],
   "source": [
    "import numpy as np\n",
    "import pandas as pd\n",
    "import seaborn as sns\n",
    "import matplotlib.pyplot as plt\n",
    "%matplotlib inline"
   ]
  },
  {
   "cell_type": "code",
   "execution_count": 250,
   "metadata": {},
   "outputs": [
    {
     "data": {
      "text/html": [
       "<div>\n",
       "<style scoped>\n",
       "    .dataframe tbody tr th:only-of-type {\n",
       "        vertical-align: middle;\n",
       "    }\n",
       "\n",
       "    .dataframe tbody tr th {\n",
       "        vertical-align: top;\n",
       "    }\n",
       "\n",
       "    .dataframe thead th {\n",
       "        text-align: right;\n",
       "    }\n",
       "</style>\n",
       "<table border=\"1\" class=\"dataframe\">\n",
       "  <thead>\n",
       "    <tr style=\"text-align: right;\">\n",
       "      <th></th>\n",
       "      <th>GRE Score</th>\n",
       "      <th>TOEFL Score</th>\n",
       "      <th>University Rating</th>\n",
       "      <th>SOP</th>\n",
       "      <th>LOR</th>\n",
       "      <th>CGPA</th>\n",
       "      <th>Research</th>\n",
       "      <th>Chance of Admit</th>\n",
       "    </tr>\n",
       "  </thead>\n",
       "  <tbody>\n",
       "    <tr>\n",
       "      <th>0</th>\n",
       "      <td>337</td>\n",
       "      <td>118</td>\n",
       "      <td>4</td>\n",
       "      <td>4.5</td>\n",
       "      <td>4.5</td>\n",
       "      <td>9.65</td>\n",
       "      <td>1</td>\n",
       "      <td>0.92</td>\n",
       "    </tr>\n",
       "    <tr>\n",
       "      <th>1</th>\n",
       "      <td>324</td>\n",
       "      <td>107</td>\n",
       "      <td>4</td>\n",
       "      <td>4.0</td>\n",
       "      <td>4.5</td>\n",
       "      <td>8.87</td>\n",
       "      <td>1</td>\n",
       "      <td>0.76</td>\n",
       "    </tr>\n",
       "    <tr>\n",
       "      <th>2</th>\n",
       "      <td>316</td>\n",
       "      <td>104</td>\n",
       "      <td>3</td>\n",
       "      <td>3.0</td>\n",
       "      <td>3.5</td>\n",
       "      <td>8.00</td>\n",
       "      <td>1</td>\n",
       "      <td>0.72</td>\n",
       "    </tr>\n",
       "    <tr>\n",
       "      <th>3</th>\n",
       "      <td>322</td>\n",
       "      <td>110</td>\n",
       "      <td>3</td>\n",
       "      <td>3.5</td>\n",
       "      <td>2.5</td>\n",
       "      <td>8.67</td>\n",
       "      <td>1</td>\n",
       "      <td>0.80</td>\n",
       "    </tr>\n",
       "    <tr>\n",
       "      <th>4</th>\n",
       "      <td>314</td>\n",
       "      <td>103</td>\n",
       "      <td>2</td>\n",
       "      <td>2.0</td>\n",
       "      <td>3.0</td>\n",
       "      <td>8.21</td>\n",
       "      <td>0</td>\n",
       "      <td>0.65</td>\n",
       "    </tr>\n",
       "  </tbody>\n",
       "</table>\n",
       "</div>"
      ],
      "text/plain": [
       "   GRE Score  TOEFL Score  University Rating  SOP  LOR   CGPA  Research  \\\n",
       "0        337          118                  4  4.5   4.5  9.65         1   \n",
       "1        324          107                  4  4.0   4.5  8.87         1   \n",
       "2        316          104                  3  3.0   3.5  8.00         1   \n",
       "3        322          110                  3  3.5   2.5  8.67         1   \n",
       "4        314          103                  2  2.0   3.0  8.21         0   \n",
       "\n",
       "   Chance of Admit   \n",
       "0              0.92  \n",
       "1              0.76  \n",
       "2              0.72  \n",
       "3              0.80  \n",
       "4              0.65  "
      ]
     },
     "execution_count": 250,
     "metadata": {},
     "output_type": "execute_result"
    }
   ],
   "source": [
    "gradAd = pd.read_csv('Graduate Admissions.csv')\n",
    "gradAd.drop('Serial No.',axis = 1,inplace = True)\n",
    "gradAd.head()"
   ]
  },
  {
   "cell_type": "code",
   "execution_count": 251,
   "metadata": {},
   "outputs": [],
   "source": [
    "def regression(x,y):\n",
    "    perp = x.T.dot(y)\n",
    "    val = np.linalg.inv(x.T.dot(x)).dot(perp)\n",
    "    return val"
   ]
  },
  {
   "cell_type": "code",
   "execution_count": 275,
   "metadata": {},
   "outputs": [
    {
     "name": "stdout",
     "output_type": "stream",
     "text": [
      "0.0 of 20\n",
      "1.0 of 20\n",
      "2.0 of 20\n",
      "3.0 of 20\n",
      "4.0 of 20\n",
      "5.0 of 20\n",
      "6.0 of 20\n",
      "7.0 of 20\n",
      "8.0 of 20\n",
      "9.0 of 20\n",
      "10.0 of 20\n",
      "11.0 of 20\n",
      "12.0 of 20\n",
      "13.0 of 20\n",
      "14.0 of 20\n",
      "15.0 of 20\n",
      "16.0 of 20\n",
      "17.0 of 20\n",
      "18.0 of 20\n",
      "19.0 of 20\n"
     ]
    }
   ],
   "source": [
    "sub = gradAd.drop('Chance of Admit ', axis = 1)\n",
    "sub.insert(loc = 0,column = 'bias', value = 1)\n",
    "ls = []\n",
    "for i in range(500):\n",
    "    for j in range(3):\n",
    "        for k in range(3):\n",
    "            for l in range(3):\n",
    "                for m in range(3):\n",
    "                    add = {'GRE Score': gradAd['GRE Score'][i]+(j-1),\n",
    "                           'TOEFL Score': gradAd['TOEFL Score'][i]+(k-1),\n",
    "                           'University Rating': gradAd['University Rating'][i],\n",
    "                            'SOP': gradAd['SOP'][i],\n",
    "                            'LOR ': gradAd['LOR '][i],\n",
    "                            'CGPA': gradAd['CGPA'][i]+(l-1)*0.01,\n",
    "                             'Research': gradAd['Research'][i],\n",
    "                            'Chance of Admit ': gradAd['Chance of Admit '][i]+(m-1)/100}\n",
    "                    ls.append(add)\n",
    "    if(i%25 == 0):\n",
    "        print(\"{} of 20\".format(i/25))\n",
    "Xdf = pd.DataFrame(ls,columns = ['GRE Score','TOEFL Score','University Rating','SOP','LOR ','CGPA','Research','Chance of Admit '])\n",
    "#Xdf = gradAd\n",
    "Xdf.insert(loc = 0,column = 'bias',value = 1)\n",
    "Ydf = Xdf['Chance of Admit ']\n",
    "Xdf.drop('Chance of Admit ',axis = 1,inplace = True)\n",
    "x = np.array(Xdf)\n",
    "y = np.array(Ydf)\n",
    "y = y.reshape(y.shape[0],1)"
   ]
  },
  {
   "cell_type": "code",
   "execution_count": 276,
   "metadata": {},
   "outputs": [
    {
     "data": {
      "text/plain": [
       "array([[  1.  , 336.  , 117.  , ...,   4.5 ,   9.64,   1.  ],\n",
       "       [  1.  , 336.  , 117.  , ...,   4.5 ,   9.64,   1.  ],\n",
       "       [  1.  , 336.  , 117.  , ...,   4.5 ,   9.64,   1.  ],\n",
       "       ...,\n",
       "       [  1.  , 328.  , 114.  , ...,   4.5 ,   9.05,   0.  ],\n",
       "       [  1.  , 328.  , 114.  , ...,   4.5 ,   9.05,   0.  ],\n",
       "       [  1.  , 328.  , 114.  , ...,   4.5 ,   9.05,   0.  ]])"
      ]
     },
     "execution_count": 276,
     "metadata": {},
     "output_type": "execute_result"
    }
   ],
   "source": [
    "x"
   ]
  },
  {
   "cell_type": "code",
   "execution_count": 277,
   "metadata": {},
   "outputs": [
    {
     "data": {
      "text/plain": [
       "(40500, 8)"
      ]
     },
     "execution_count": 277,
     "metadata": {},
     "output_type": "execute_result"
    }
   ],
   "source": [
    "x.shape"
   ]
  },
  {
   "cell_type": "code",
   "execution_count": 278,
   "metadata": {},
   "outputs": [],
   "source": [
    "chooser = np.array([True if np.random.random() <= 0.7 else False for i in range(40500)])\n",
    "x_train = x[chooser]\n",
    "y_train = y[chooser]\n",
    "x_test = x[~chooser]\n",
    "y_test = y[~chooser]"
   ]
  },
  {
   "cell_type": "code",
   "execution_count": 279,
   "metadata": {},
   "outputs": [
    {
     "data": {
      "text/plain": [
       "(12057, 8)"
      ]
     },
     "execution_count": 279,
     "metadata": {},
     "output_type": "execute_result"
    }
   ],
   "source": [
    "x_test.shape"
   ]
  },
  {
   "cell_type": "code",
   "execution_count": 280,
   "metadata": {},
   "outputs": [],
   "source": [
    "theta = regression(x_train,y_train)"
   ]
  },
  {
   "cell_type": "code",
   "execution_count": 281,
   "metadata": {},
   "outputs": [
    {
     "data": {
      "text/plain": [
       "array([[-1.27508185],\n",
       "       [ 0.00187216],\n",
       "       [ 0.00258145],\n",
       "       [ 0.00619485],\n",
       "       [ 0.0013426 ],\n",
       "       [ 0.01668867],\n",
       "       [ 0.12037999],\n",
       "       [ 0.02374992]])"
      ]
     },
     "execution_count": 281,
     "metadata": {},
     "output_type": "execute_result"
    }
   ],
   "source": [
    "theta"
   ]
  },
  {
   "cell_type": "code",
   "execution_count": 289,
   "metadata": {
    "scrolled": true
   },
   "outputs": [
    {
     "data": {
      "text/plain": [
       "(array([  50.,  106.,  256.,  408.,  776., 2751., 4841., 2251.,  537.,\n",
       "          81.]),\n",
       " array([-0.28082471, -0.23550065, -0.1901766 , -0.14485254, -0.09952848,\n",
       "        -0.05420443, -0.00888037,  0.03644368,  0.08176774,  0.12709179,\n",
       "         0.17241585]),\n",
       " <a list of 10 Patch objects>)"
      ]
     },
     "execution_count": 289,
     "metadata": {},
     "output_type": "execute_result"
    },
    {
     "data": {
      "image/png": "[encoded data removed]",
      "text/plain": [
       "<Figure size 432x288 with 1 Axes>"
      ]
     },
     "metadata": {
      "needs_background": "light"
     },
     "output_type": "display_data"
    }
   ],
   "source": [
    "plt.xlabel('Errors in test dataset')\n",
    "plt.ylabel('Number of sample points')\n",
    "plt.hist(y_test - x_test.dot(theta),bins = 10)"
   ]
  },
  {
   "cell_type": "code",
   "execution_count": 283,
   "metadata": {},
   "outputs": [],
   "source": [
    "def getbounds(ls,confidence):\n",
    "    confidence /= 2\n",
    "    n = len(ls)\n",
    "    lb = int(np.floor(confidence * n)/100)\n",
    "    ub = int(np.floor((100-confidence)*n/100))\n",
    "    return ls[lb],ls[ub]"
   ]
  },
  {
   "cell_type": "code",
   "execution_count": 284,
   "metadata": {},
   "outputs": [
    {
     "data": {
      "text/plain": [
       "(array([-0.11990044]), array([0.08267586]))"
      ]
     },
     "execution_count": 284,
     "metadata": {},
     "output_type": "execute_result"
    }
   ],
   "source": [
    "error = y_test - x_test.dot(theta)\n",
    "error = list(error)\n",
    "error.sort()\n",
    "getbounds(error,10)"
   ]
  },
  {
   "cell_type": "code",
   "execution_count": 285,
   "metadata": {},
   "outputs": [
    {
     "data": {
      "text/plain": [
       "0.2999087666915485"
      ]
     },
     "execution_count": 285,
     "metadata": {},
     "output_type": "execute_result"
    }
   ],
   "source": [
    "y_test[np.abs(y_test - x_test.dot(theta)) >0.05].shape[0]/y_test.shape[0]"
   ]
  },
  {
   "cell_type": "code",
   "execution_count": 286,
   "metadata": {},
   "outputs": [
    {
     "data": {
      "text/plain": [
       "array([[0.94612615],\n",
       "       [0.94612615],\n",
       "       [0.94612615],\n",
       "       ...,\n",
       "       [0.82226371],\n",
       "       [0.82364136],\n",
       "       [0.82484516]])"
      ]
     },
     "execution_count": 286,
     "metadata": {},
     "output_type": "execute_result"
    }
   ],
   "source": [
    "x_test.dot(theta)"
   ]
  },
  {
   "cell_type": "code",
   "execution_count": 287,
   "metadata": {},
   "outputs": [
    {
     "data": {
      "text/plain": [
       "array([0.95178356])"
      ]
     },
     "execution_count": 287,
     "metadata": {},
     "output_type": "execute_result"
    }
   ],
   "source": [
    "np.array([1,337,118,4,4.5,4.5,9.65,1]).dot(theta)"
   ]
  },
  {
   "cell_type": "code",
   "execution_count": 288,
   "metadata": {},
   "outputs": [
    {
     "data": {
      "text/plain": [
       "array([1.01990642])"
      ]
     },
     "execution_count": 288,
     "metadata": {},
     "output_type": "execute_result"
    }
   ],
   "source": [
    "np.array([1,340,120,5,5,5,10,1]).dot(theta)"
   ]
  },
  {
   "cell_type": "code",
   "execution_count": null,
   "metadata": {},
   "outputs": [],
   "source": []
  }
 ],
 "metadata": {
  "kernelspec": {
   "display_name": "Python 3",
   "language": "python",
   "name": "python3"
  },
  "language_info": {
   "codemirror_mode": {
    "name": "ipython",
    "version": 3
   },
   "file_extension": ".py",
   "mimetype": "text/x-python",
   "name": "python",
   "nbconvert_exporter": "python",
   "pygments_lexer": "ipython3",
   "version": "3.7.6"
  }
 },
 "nbformat": 4,
 "nbformat_minor": 4
}
